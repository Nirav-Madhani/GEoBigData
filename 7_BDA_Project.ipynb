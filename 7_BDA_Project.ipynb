{
  "nbformat": 4,
  "nbformat_minor": 0,
  "metadata": {
    "colab": {
      "name": "7_BDA_Project.ipynb",
      "provenance": [],
      "collapsed_sections": [],
      "authorship_tag": "ABX9TyPEm32evqSoN4osQIHyCdo9",
      "include_colab_link": true
    },
    "kernelspec": {
      "name": "python3",
      "display_name": "Python 3"
    },
    "language_info": {
      "name": "python"
    }
  },
  "cells": [
    {
      "cell_type": "markdown",
      "metadata": {
        "id": "view-in-github",
        "colab_type": "text"
      },
      "source": [
        "<a href=\"https://colab.research.google.com/github/Nirav-Madhani/GEoBigData/blob/main/7_BDA_Project.ipynb\" target=\"_parent\"><img src=\"https://colab.research.google.com/assets/colab-badge.svg\" alt=\"Open In Colab\"/></a>"
      ]
    },
    {
      "cell_type": "markdown",
      "metadata": {
        "id": "b_B2kPPC5K0M"
      },
      "source": [
        "# Setup"
      ]
    },
    {
      "cell_type": "code",
      "metadata": {
        "colab": {
          "base_uri": "https://localhost:8080/"
        },
        "id": "YSGTrtSzRbPZ",
        "outputId": "1a1c21af-e76f-41a8-8f32-fa5af791a3c3"
      },
      "source": [
        "from google.colab import drive\n",
        "drive.mount('/content/drive')"
      ],
      "execution_count": null,
      "outputs": [
        {
          "output_type": "stream",
          "name": "stdout",
          "text": [
            "Mounted at /content/drive\n"
          ]
        }
      ]
    },
    {
      "cell_type": "code",
      "metadata": {
        "colab": {
          "base_uri": "https://localhost:8080/"
        },
        "id": "-4BMWSCASJC_",
        "outputId": "b354899e-14ad-4ed5-bb37-c6ba063dac11"
      },
      "source": [
        "! pip install -q kaggle"
      ],
      "execution_count": null,
      "outputs": [
        {
          "output_type": "stream",
          "name": "stdout",
          "text": [
            "Requirement already satisfied: kaggle in /usr/local/lib/python3.7/dist-packages (1.5.12)\n",
            "Requirement already satisfied: tqdm in /usr/local/lib/python3.7/dist-packages (from kaggle) (4.62.3)\n",
            "Requirement already satisfied: requests in /usr/local/lib/python3.7/dist-packages (from kaggle) (2.23.0)\n",
            "Requirement already satisfied: python-slugify in /usr/local/lib/python3.7/dist-packages (from kaggle) (5.0.2)\n",
            "Requirement already satisfied: certifi in /usr/local/lib/python3.7/dist-packages (from kaggle) (2021.5.30)\n",
            "Requirement already satisfied: six>=1.10 in /usr/local/lib/python3.7/dist-packages (from kaggle) (1.15.0)\n",
            "Requirement already satisfied: urllib3 in /usr/local/lib/python3.7/dist-packages (from kaggle) (1.24.3)\n",
            "Requirement already satisfied: python-dateutil in /usr/local/lib/python3.7/dist-packages (from kaggle) (2.8.2)\n",
            "Requirement already satisfied: text-unidecode>=1.3 in /usr/local/lib/python3.7/dist-packages (from python-slugify->kaggle) (1.3)\n",
            "Requirement already satisfied: idna<3,>=2.5 in /usr/local/lib/python3.7/dist-packages (from requests->kaggle) (2.10)\n",
            "Requirement already satisfied: chardet<4,>=3.0.2 in /usr/local/lib/python3.7/dist-packages (from requests->kaggle) (3.0.4)\n"
          ]
        }
      ]
    },
    {
      "cell_type": "code",
      "metadata": {
        "colab": {
          "base_uri": "https://localhost:8080/"
        },
        "id": "4rg63cwSTyDN",
        "outputId": "50134a6f-ee52-4a91-decd-79d7ce1e62f3"
      },
      "source": [
        "!ls drive/MyDrive/BigData"
      ],
      "execution_count": null,
      "outputs": [
        {
          "output_type": "stream",
          "name": "stdout",
          "text": [
            "build\t      kaggle.json  pyvenv.cfg\t      Scripts  worldcities.csv\n",
            "geonames.csv  Lib\t   rg_cities1000.csv  UI       worldcitiespop.csv\n"
          ]
        }
      ]
    },
    {
      "cell_type": "code",
      "metadata": {
        "colab": {
          "base_uri": "https://localhost:8080/"
        },
        "id": "eAco9EqeVq6T",
        "outputId": "acec069f-9637-4c82-f1db-1e8b4bd520ac"
      },
      "source": [
        "! mkdir ~/.kaggle \n",
        "! cp drive/MyDrive/BigData/kaggle.json ~/.kaggle/\n",
        "! chmod 600 /root/.kaggle/kaggle.json\n",
        "!kaggle datasets download -d openaddresses/openaddresses-europe -f greece.csv\n",
        "!kaggle datasets download -d openaddresses/openaddresses-europe -f belgium.csv\n",
        "!kaggle datasets download -d openaddresses/openaddresses-europe -f germany.csv\n",
        "!kaggle datasets download -d openaddresses/openaddresses-europe -f romania.csv\n",
        "!kaggle datasets download -d openaddresses/openaddresses-europe -f italy.csv\n",
        "!unzip \\*.zip"
      ],
      "execution_count": null,
      "outputs": [
        {
          "output_type": "stream",
          "name": "stdout",
          "text": [
            "mkdir: cannot create directory ‘/root/.kaggle’: File exists\n",
            "chmod: cannot access '/root/.kaggle/kaggle.jso': No such file or directory\n",
            "Warning: Your Kaggle API key is readable by other users on this system! To fix this, you can run 'chmod 600 /root/.kaggle/kaggle.json'\n",
            "greece.csv: Skipping, found more recently modified local copy (use --force to force download)\n",
            "Warning: Your Kaggle API key is readable by other users on this system! To fix this, you can run 'chmod 600 /root/.kaggle/kaggle.json'\n",
            "belgium.csv.zip: Skipping, found more recently modified local copy (use --force to force download)\n",
            "Warning: Your Kaggle API key is readable by other users on this system! To fix this, you can run 'chmod 600 /root/.kaggle/kaggle.json'\n",
            "germany.csv.zip: Skipping, found more recently modified local copy (use --force to force download)\n",
            "Warning: Your Kaggle API key is readable by other users on this system! To fix this, you can run 'chmod 600 /root/.kaggle/kaggle.json'\n",
            "romania.csv.zip: Skipping, found more recently modified local copy (use --force to force download)\n",
            "Warning: Your Kaggle API key is readable by other users on this system! To fix this, you can run 'chmod 600 /root/.kaggle/kaggle.json'\n",
            "italy.csv.zip: Skipping, found more recently modified local copy (use --force to force download)\n",
            "Archive:  germany.csv.zip\n",
            "  inflating: germany.csv             \n",
            "\n",
            "Archive:  italy.csv.zip\n",
            "  inflating: italy.csv               \n",
            "\n",
            "Archive:  belgium.csv.zip\n",
            "  inflating: belgium.csv             \n",
            "\n",
            "Archive:  romania.csv.zip\n",
            "  inflating: romania.csv             \n",
            "\n",
            "4 archives were successfully processed.\n"
          ]
        }
      ]
    },
    {
      "cell_type": "markdown",
      "metadata": {
        "id": "MJ3hYQG95uKR"
      },
      "source": [
        "# Test Execution"
      ]
    },
    {
      "cell_type": "code",
      "metadata": {
        "colab": {
          "base_uri": "https://localhost:8080/"
        },
        "id": "vRo7Xn0XV-AF",
        "outputId": "ce79fc7c-9442-4871-94a1-32ddf41d070a"
      },
      "source": [
        "import pandas as pd\n",
        "from numpy import sqrt\n",
        "def Subquery(x,y,cc=None,csv=None):\n",
        "  df = pd.read_csv(csv,header='infer')\n",
        "  #print(df.columns)\n",
        "  df['dist'] = sqrt((x - df['LAT'])**2 + (y-df['LON'])**2)\n",
        "  mi = df['dist'].idxmin()  \n",
        "  print(f\"Input {x} , {y} Output:\")\n",
        "  print(df.iloc[mi]['CITY'],df.iloc[mi]['REGION'],df.iloc[mi]['STREET'])\n",
        "  #return df.iloc[mi]\n",
        "Subquery(39.100393,22.2645076,csv='greece.csv')"
      ],
      "execution_count": null,
      "outputs": [
        {
          "output_type": "stream",
          "name": "stdout",
          "text": [
            "Input 39.100393 , 22.2645076 Output:\n",
            "nan nan ΟΛΥΜΠΙΑΔΟΣ\n"
          ]
        }
      ]
    },
    {
      "cell_type": "code",
      "metadata": {
        "colab": {
          "base_uri": "https://localhost:8080/"
        },
        "id": "iB6ustYHXxcI",
        "outputId": "e02a9628-7191-40ff-8cd1-8e3ed457a9fe"
      },
      "source": [
        "import multiprocessing as mp\n",
        "df = pd.read_csv('drive/MyDrive/BigData/worldcities.csv')\n",
        "def MainQuery(x,y):\n",
        "  df['dist'] = sqrt((x - df['lat'])**2 + (y-df['lng'])**2)\n",
        "  mi = df['dist'].idxmin()  \n",
        "  s= df.iloc[mi]['country'].lower()\n",
        "  p = mp.Process(target=Subquery,args=[x,y,'',s+\".csv\"])\n",
        "  p.start()\n",
        "  processes.append(p)\n",
        "  #return df.iloc[mi]['country']\n",
        "MainQuery(39.100393,22.2645076)"
      ],
      "execution_count": null,
      "outputs": [
        {
          "output_type": "stream",
          "name": "stdout",
          "text": [
            "Input 39.100393 , 22.2645076 Output:\n",
            "nan nan ΟΛΥΜΠΙΑΔΟΣ\n"
          ]
        }
      ]
    },
    {
      "cell_type": "code",
      "metadata": {
        "colab": {
          "base_uri": "https://localhost:8080/"
        },
        "id": "qStWUrug1aRx",
        "outputId": "bff2e547-1466-42ec-c842-8115550636ef"
      },
      "source": [
        "processes = []\n",
        "queries = [\n",
        "           (41.8936529,12.5272581),\n",
        "           (39.100393,22.2645076),           \n",
        "           (42.0543372,12.6612876),\n",
        "           (43.1235072,12.0408271),\n",
        "           (52.035745,9.9100727),\n",
        "           (50.8470073,4.3398883)\n",
        "           ]\n",
        "for x,y in queries:\n",
        "  MainQuery(x,y)\n",
        "\n",
        "for process in processes:\n",
        "    process.join()"
      ],
      "execution_count": null,
      "outputs": [
        {
          "output_type": "stream",
          "name": "stdout",
          "text": [
            "41.8936529 12.5272581\n",
            "39.100393 22.2645076\n",
            "42.0543372 12.6612876\n",
            "43.1235072 12.0408271\n",
            "52.035745 9.9100727\n",
            "50.8470073 4.3398883\n",
            "Input 39.100393 , 22.2645076 Output:\n",
            "nan nan ΟΛΥΜΠΙΑΔΟΣ\n",
            "Input 50.8470073 , 4.3398883 Output:\n",
            "Bruxelles nan Rue de la Senne\n"
          ]
        },
        {
          "output_type": "stream",
          "name": "stderr",
          "text": [
            "/usr/lib/python3.7/multiprocessing/popen_fork.py:74: DtypeWarning: Columns (2,4,5,10) have mixed types.Specify dtype option on import or set low_memory=False.\n",
            "  code = process_obj._bootstrap()\n"
          ]
        },
        {
          "output_type": "stream",
          "name": "stdout",
          "text": [
            "Input 52.035745 , 9.9100727 Output:\n",
            "Höxter nan Stahler Ufer\n"
          ]
        },
        {
          "output_type": "stream",
          "name": "stderr",
          "text": [
            "/usr/lib/python3.7/multiprocessing/popen_fork.py:74: DtypeWarning: Columns (3,5,6,9) have mixed types.Specify dtype option on import or set low_memory=False.\n",
            "  code = process_obj._bootstrap()\n",
            "/usr/lib/python3.7/multiprocessing/popen_fork.py:74: DtypeWarning: Columns (3,5,6,9) have mixed types.Specify dtype option on import or set low_memory=False.\n",
            "  code = process_obj._bootstrap()\n",
            "/usr/lib/python3.7/multiprocessing/popen_fork.py:74: DtypeWarning: Columns (3,5,6,9) have mixed types.Specify dtype option on import or set low_memory=False.\n",
            "  code = process_obj._bootstrap()\n"
          ]
        },
        {
          "output_type": "stream",
          "name": "stdout",
          "text": [
            "Input 41.8936529 , 12.5272581 Output:\n",
            "nan nan VIA VALNERINA\n",
            "Input 43.1235072 , 12.0408271 Output:\n",
            "nan nan VIA PIETRO NENNI\n",
            "Input 42.0543372 , 12.6612876 Output:\n",
            "nan nan VIA VALNERINA\n"
          ]
        }
      ]
    },
    {
      "cell_type": "markdown",
      "metadata": {
        "id": "WRyAWv4Z7gxJ"
      },
      "source": [
        "Data Storage\n",
        "\n",
        "Feather — a fast, lightweight, and easy-to-use binary file format for storing data frames\n",
        "Parquet — an Apache Hadoop’s columnar storage format\n",
        "\n",
        "https://towardsdatascience.com/the-best-format-to-save-pandas-data-414dca023e0d"
      ]
    }
  ]
}